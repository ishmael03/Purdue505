{
 "cells": [
  {
   "cell_type": "code",
   "execution_count": 4,
   "id": "6fe749d3",
   "metadata": {},
   "outputs": [],
   "source": [
    "import pandas as pd"
   ]
  },
  {
   "cell_type": "code",
   "execution_count": 5,
   "id": "3b42ade2",
   "metadata": {},
   "outputs": [],
   "source": [
    "import numpy as np"
   ]
  },
  {
   "cell_type": "code",
   "execution_count": 94,
   "id": "7e632900",
   "metadata": {},
   "outputs": [
    {
     "name": "stdout",
     "output_type": "stream",
     "text": [
      "   sepal length (cm)  sepal width (cm)  petal length (cm)  petal width (cm)  \\\n",
      "0                5.1               3.5                1.4               0.2   \n",
      "1                4.9               3.0                1.4               0.2   \n",
      "2                4.7               3.2                1.3               0.2   \n",
      "3                4.6               3.1                1.5               0.2   \n",
      "4                5.0               3.6                1.4               0.2   \n",
      "\n",
      "  Species  \n",
      "0  setosa  \n",
      "1  setosa  \n",
      "2  setosa  \n",
      "3  setosa  \n",
      "4  setosa  \n"
     ]
    }
   ],
   "source": [
    "from sklearn import datasets\n",
    "iris_load = datasets.load_iris()\n",
    "\n",
    "iris = pd.DataFrame(data=iris_load.data, columns=iris_load.feature_names)\n",
    "\n",
    "#iris['target'] = iris_load.target\n",
    "\n",
    "iris['Species'] = pd.Categorical.from_codes(iris_load.target, iris_load.target_names)\n",
    "\n",
    "print(iris.head())"
   ]
  },
  {
   "cell_type": "code",
   "execution_count": 96,
   "id": "2815b2c3",
   "metadata": {},
   "outputs": [
    {
     "data": {
      "text/html": [
       "<div>\n",
       "<style scoped>\n",
       "    .dataframe tbody tr th:only-of-type {\n",
       "        vertical-align: middle;\n",
       "    }\n",
       "\n",
       "    .dataframe tbody tr th {\n",
       "        vertical-align: top;\n",
       "    }\n",
       "\n",
       "    .dataframe thead th {\n",
       "        text-align: right;\n",
       "    }\n",
       "</style>\n",
       "<table border=\"1\" class=\"dataframe\">\n",
       "  <thead>\n",
       "    <tr style=\"text-align: right;\">\n",
       "      <th></th>\n",
       "      <th>sepal length (cm)</th>\n",
       "      <th>sepal width (cm)</th>\n",
       "      <th>petal length (cm)</th>\n",
       "      <th>petal width (cm)</th>\n",
       "      <th>Species</th>\n",
       "    </tr>\n",
       "  </thead>\n",
       "  <tbody>\n",
       "    <tr>\n",
       "      <th>0</th>\n",
       "      <td>5.1</td>\n",
       "      <td>3.5</td>\n",
       "      <td>1.4</td>\n",
       "      <td>0.2</td>\n",
       "      <td>setosa</td>\n",
       "    </tr>\n",
       "    <tr>\n",
       "      <th>1</th>\n",
       "      <td>4.9</td>\n",
       "      <td>3.0</td>\n",
       "      <td>1.4</td>\n",
       "      <td>0.2</td>\n",
       "      <td>setosa</td>\n",
       "    </tr>\n",
       "    <tr>\n",
       "      <th>2</th>\n",
       "      <td>4.7</td>\n",
       "      <td>3.2</td>\n",
       "      <td>1.3</td>\n",
       "      <td>0.2</td>\n",
       "      <td>setosa</td>\n",
       "    </tr>\n",
       "    <tr>\n",
       "      <th>3</th>\n",
       "      <td>4.6</td>\n",
       "      <td>3.1</td>\n",
       "      <td>1.5</td>\n",
       "      <td>0.2</td>\n",
       "      <td>setosa</td>\n",
       "    </tr>\n",
       "    <tr>\n",
       "      <th>4</th>\n",
       "      <td>5.0</td>\n",
       "      <td>3.6</td>\n",
       "      <td>1.4</td>\n",
       "      <td>0.2</td>\n",
       "      <td>setosa</td>\n",
       "    </tr>\n",
       "  </tbody>\n",
       "</table>\n",
       "</div>"
      ],
      "text/plain": [
       "   sepal length (cm)  sepal width (cm)  petal length (cm)  petal width (cm)  \\\n",
       "0                5.1               3.5                1.4               0.2   \n",
       "1                4.9               3.0                1.4               0.2   \n",
       "2                4.7               3.2                1.3               0.2   \n",
       "3                4.6               3.1                1.5               0.2   \n",
       "4                5.0               3.6                1.4               0.2   \n",
       "\n",
       "  Species  \n",
       "0  setosa  \n",
       "1  setosa  \n",
       "2  setosa  \n",
       "3  setosa  \n",
       "4  setosa  "
      ]
     },
     "execution_count": 96,
     "metadata": {},
     "output_type": "execute_result"
    }
   ],
   "source": [
    "iris.head() "
   ]
  },
  {
   "cell_type": "code",
   "execution_count": 97,
   "id": "95f6cc44",
   "metadata": {},
   "outputs": [
    {
     "name": "stdout",
     "output_type": "stream",
     "text": [
      "     sepal length (cm)  sepal width (cm)  petal length (cm)  petal width (cm)  \\\n",
      "0                  5.1               3.5                1.4               0.2   \n",
      "1                  4.9               3.0                1.4               0.2   \n",
      "2                  4.7               3.2                1.3               0.2   \n",
      "3                  4.6               3.1                1.5               0.2   \n",
      "4                  5.0               3.6                1.4               0.2   \n",
      "5                  5.4               3.9                1.7               0.4   \n",
      "6                  4.6               3.4                1.4               0.3   \n",
      "7                  5.0               3.4                1.5               0.2   \n",
      "8                  4.4               2.9                1.4               0.2   \n",
      "149                5.9               3.0                5.1               1.8   \n",
      "\n",
      "       Species  \n",
      "0       setosa  \n",
      "1       setosa  \n",
      "2       setosa  \n",
      "3       setosa  \n",
      "4       setosa  \n",
      "5       setosa  \n",
      "6       setosa  \n",
      "7       setosa  \n",
      "8       setosa  \n",
      "149  virginica  \n"
     ]
    }
   ],
   "source": [
    "sub1 = pd.concat([iris.head(9), iris.tail(1)])\n",
    "print(sub1)"
   ]
  },
  {
   "cell_type": "code",
   "execution_count": 98,
   "id": "87e403b0",
   "metadata": {},
   "outputs": [
    {
     "name": "stdout",
     "output_type": "stream",
     "text": [
      "     sepal length (cm)  sepal width (cm)\n",
      "41                 4.5               2.3\n",
      "53                 5.5               2.3\n",
      "60                 5.0               2.0\n",
      "62                 6.0               2.2\n",
      "68                 6.2               2.2\n",
      "87                 6.3               2.3\n",
      "93                 5.0               2.3\n",
      "119                6.0               2.2\n"
     ]
    }
   ],
   "source": [
    "sub2 = iris[iris['sepal width (cm)']<2.4][['sepal length (cm)', 'sepal width (cm)']]\n",
    "print(sub2)"
   ]
  },
  {
   "cell_type": "code",
   "execution_count": 99,
   "id": "89f5c085",
   "metadata": {},
   "outputs": [
    {
     "name": "stdout",
     "output_type": "stream",
     "text": [
      "Species\n",
      "0      100\n",
      "100     50\n",
      "Name: count, dtype: int64\n"
     ]
    }
   ],
   "source": [
    "Versicolor_Is_The_Best = (iris['Species']=='versicolor').astype(int) * 100\n",
    "print(Versicolor_Is_The_Best.value_counts())"
   ]
  },
  {
   "cell_type": "code",
   "execution_count": 100,
   "id": "db2279ba",
   "metadata": {},
   "outputs": [
    {
     "name": "stdout",
     "output_type": "stream",
     "text": [
      "3.0573333333333337\n",
      "3.0\n",
      "4.4\n",
      "2.0\n"
     ]
    }
   ],
   "source": [
    "sw = iris['sepal width (cm)']\n",
    "print(sw.mean())\n",
    "print(sw.median())\n",
    "print(sw.max())\n",
    "print(sw.min())"
   ]
  },
  {
   "cell_type": "code",
   "execution_count": 101,
   "id": "ab028de0",
   "metadata": {},
   "outputs": [
    {
     "name": "stdout",
     "output_type": "stream",
     "text": [
      "Sum: 100.30000000000001\n",
      "Total loops: 29\n"
     ]
    }
   ],
   "source": [
    "total = 0\n",
    "count = 0\n",
    "\n",
    "for value in sw:\n",
    "    total += value\n",
    "    count += 1\n",
    "    if total > 100:\n",
    "        break\n",
    "\n",
    "print(f\"Sum: {total}\")\n",
    "print(f\"Total loops: {count}\")"
   ]
  },
  {
   "cell_type": "code",
   "execution_count": 102,
   "id": "81b877bd",
   "metadata": {},
   "outputs": [
    {
     "data": {
      "text/plain": [
       "0    1.377953\n",
       "1    1.181102\n",
       "2    1.259843\n",
       "3    1.220472\n",
       "4    1.417323\n",
       "5    1.535433\n",
       "6    1.338583\n",
       "Name: sepal width (cm), dtype: float64"
      ]
     },
     "execution_count": 102,
     "metadata": {},
     "output_type": "execute_result"
    }
   ],
   "source": [
    "def cmtoin(cm):\n",
    "    return cm / 2.54\n",
    "sw_in = iris['sepal width (cm)'].apply(cmtoin)\n",
    "\n",
    "sw_in.head(7)\n"
   ]
  },
  {
   "cell_type": "code",
   "execution_count": 103,
   "id": "15efb62a",
   "metadata": {},
   "outputs": [
    {
     "data": {
      "image/png": "[encoded data removed]",
      "text/plain": [
       "<Figure size 1000x600 with 1 Axes>"
      ]
     },
     "metadata": {},
     "output_type": "display_data"
    }
   ],
   "source": [
    "import matplotlib.pyplot as plt\n",
    "import seaborn as sns\n",
    "\n",
    "plt.figure(figsize=(10,6))\n",
    "scatter = sns.scatterplot(\n",
    "    data=iris,\n",
    "    x='sepal length (cm)',\n",
    "    y='petal length (cm)',\n",
    "    hue='Species'\n",
    ")\n",
    "\n",
    "plt.title('Sepal Length vs Petal Length for Iris Flowers')\n",
    "plt.xlabel(\"Sepal Length (cm)\")\n",
    "plt.ylabel(\"Petal Length (cm)\")\n",
    "\n",
    "plt.legend(title='Species')\n",
    "plt.show()"
   ]
  },
  {
   "cell_type": "code",
   "execution_count": null,
   "id": "cc66972a",
   "metadata": {},
   "outputs": [],
   "source": []
  }
 ],
 "metadata": {
  "kernelspec": {
   "display_name": "purdue505",
   "language": "python",
   "name": "python3"
  },
  "language_info": {
   "codemirror_mode": {
    "name": "ipython",
    "version": 3
   },
   "file_extension": ".py",
   "mimetype": "text/x-python",
   "name": "python",
   "nbconvert_exporter": "python",
   "pygments_lexer": "ipython3",
   "version": "3.9.5"
  }
 },
 "nbformat": 4,
 "nbformat_minor": 5
}
